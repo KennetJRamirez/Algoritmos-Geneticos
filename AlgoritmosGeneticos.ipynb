{
  "nbformat": 4,
  "nbformat_minor": 0,
  "metadata": {
    "colab": {
      "provenance": [],
      "authorship_tag": "ABX9TyM2T7lpmjaVyy++mXSQIUN0",
      "include_colab_link": true
    },
    "kernelspec": {
      "name": "python3",
      "display_name": "Python 3"
    },
    "language_info": {
      "name": "python"
    }
  },
  "cells": [
    {
      "cell_type": "markdown",
      "metadata": {
        "id": "view-in-github",
        "colab_type": "text"
      },
      "source": [
        "<a href=\"https://colab.research.google.com/github/KennetJRamirez/Algoritmos-Geneticos/blob/main/AlgoritmosGeneticos.ipynb\" target=\"_parent\"><img src=\"https://colab.research.google.com/assets/colab-badge.svg\" alt=\"Open In Colab\"/></a>"
      ]
    },
    {
      "cell_type": "code",
      "source": [
        "!pip install ipysheet"
      ],
      "metadata": {
        "id": "QfG8YZMrkyL3"
      },
      "execution_count": null,
      "outputs": []
    },
    {
      "cell_type": "markdown",
      "source": [
        "**Carga de CSV y Modificacion**"
      ],
      "metadata": {
        "id": "mOF8R0_EXXT0"
      }
    },
    {
      "cell_type": "code",
      "source": [
        "# Configuracion del entorno (Widgets)\n",
        "from google.colab import output\n",
        "output.enable_custom_widget_manager()\n",
        "\n",
        "import ipysheet\n",
        "from IPython.display import display"
      ],
      "metadata": {
        "id": "dBARnkMBMtRw"
      },
      "execution_count": null,
      "outputs": []
    },
    {
      "cell_type": "markdown",
      "source": [
        "Activamos y solicitamos los widgets necesarios de google colab para el trabajo de la hoja csv funcione correctamente\n",
        "\n"
      ],
      "metadata": {
        "id": "kgVGKRgxG1PN"
      }
    },
    {
      "cell_type": "code",
      "source": [
        "# Ingreso de Grafo\n",
        "sheet = ipysheet.sheet(rows=10, columns=8)  # 9 filas de datos + encabezado\n",
        "\n",
        "encabezados = ['Arista', 'TipoArista', 'NodoOrigen', 'NodoDestino', 'CapacidadMinima', 'CapacidadMaxima', 'FlujoEntrada', '%']\n",
        "for col, nombre in enumerate(encabezados):\n",
        "    ipysheet.cell(0, col, nombre)\n",
        "\n",
        "# Crear celdas vacías editables para que las llenes manualmente\n",
        "for row in range(1, 10):  # Filas 1 a 9\n",
        "    for col in range(8):  # Usar 8 columnas\n",
        "        ipysheet.cell(row, col, '')\n",
        "\n",
        "# Mostrar la hoja visual\n",
        "display(sheet)"
      ],
      "metadata": {
        "id": "EjdlzvvxM4Kv"
      },
      "execution_count": null,
      "outputs": []
    },
    {
      "cell_type": "markdown",
      "source": [
        "Se crea una hoja editable de n columas y n filas para el ingreso de la info de grafo, tales como:\n",
        "\n",
        "\n",
        "*   Arista\n",
        "*   TipoArista\n",
        "*   NodoOrigen\n",
        "* Nodo Destino\n",
        "*Capacidad Minima\n",
        "*Capacidad Maxima\n",
        "*FlujoEntrada\n",
        "*%\n",
        "\n"
      ],
      "metadata": {
        "id": "9jjWWh6oHOLJ"
      }
    },
    {
      "cell_type": "code",
      "source": [
        "# Guardar formato .csv\n",
        "df = ipysheet.to_dataframe(sheet)\n",
        "\n",
        "# Reemplazar valores vacíos con NaN para evitar problemas con el CSV\n",
        "df = df.fillna('')\n",
        "\n",
        "# Guardar el archivo CSV\n",
        "df.to_csv('datos_llenos.csv', index=False)\n",
        "\n",
        "# Mostrar como tabla abajo\n",
        "df"
      ],
      "metadata": {
        "id": "Jiq-FjuOM9Cy"
      },
      "execution_count": null,
      "outputs": []
    },
    {
      "cell_type": "markdown",
      "source": [
        "Se toma lo que se ingreso en la hoja y se guarda en un archivo .csv, para poder usarlo más adelante. Tambien se muestra la tabla justo debajo para ver el resumen de lo ingresado de forma textual."
      ],
      "metadata": {
        "id": "PicZPlDoH0Yu"
      }
    },
    {
      "cell_type": "code",
      "source": [
        "# Descargar csv editado\n",
        "from google.colab import files\n",
        "\n",
        "files.download('datos_llenos.csv')"
      ],
      "metadata": {
        "id": "37OL8-nINBzf"
      },
      "execution_count": null,
      "outputs": []
    },
    {
      "cell_type": "markdown",
      "source": [
        "Se descaarga al equipo local una copia del csv\n"
      ],
      "metadata": {
        "id": "bGvLK3N7ID0c"
      }
    },
    {
      "cell_type": "markdown",
      "source": [
        "<h1> Cargando Datos CSV sin Interfaz Grafica</h1>"
      ],
      "metadata": {
        "id": "LX5GCCBEN8es"
      }
    },
    {
      "cell_type": "code",
      "source": [
        "# Subir de mis documentos\n",
        "import csv\n",
        "\n",
        "with open('datos_llenos.csv', newline='', encoding='utf-8') as f:\n",
        "    reader = csv.reader(f)\n",
        "    next(reader)  # Saltar fila 'A','B',...\n",
        "    next(reader)  # Saltar encabezado real\n",
        "\n",
        "    for row in reader:\n",
        "        print(row)"
      ],
      "metadata": {
        "id": "g0qMURXoOF9h"
      },
      "execution_count": null,
      "outputs": []
    },
    {
      "cell_type": "markdown",
      "source": [
        "Este permite poder leer el contenido del CSV directamente parseado en base a la eliminacion de los encabezados y carga por medio del widget de colab"
      ],
      "metadata": {
        "id": "dSYEhKBLIOy0"
      }
    },
    {
      "cell_type": "markdown",
      "source": [
        "<h1>Graficando el Grafo</h1>"
      ],
      "metadata": {
        "id": "7-5Iv1vNauYG"
      }
    },
    {
      "cell_type": "code",
      "source": [
        "import csv\n",
        "import networkx as nx\n",
        "import matplotlib.pyplot as plt\n",
        "\n",
        "# Leer CSV\n",
        "aristas = []\n",
        "with open('datos_llenos.csv', newline='', encoding='utf-8') as f:\n",
        "    reader = csv.reader(f)\n",
        "    next(reader)  # Saltar fila A,B,C\n",
        "    next(reader)  # Saltar encabezados\n",
        "    for row in reader:\n",
        "        aristas.append(row)\n",
        "\n",
        "# Crear grafo dirigido\n",
        "G = nx.DiGraph()\n",
        "\n",
        "# Agregar nodos y aristas con etiquetas\n",
        "for fila in aristas:\n",
        "    arista = fila[0]\n",
        "    tipo = fila[1].strip()\n",
        "    origen = fila[2].strip()\n",
        "    destino = fila[3].strip()\n",
        "    cap_min = fila[4].strip()\n",
        "    cap_max = fila[5].strip()\n",
        "    flujo = fila[6].strip()\n",
        "\n",
        "    etiqueta = []\n",
        "\n",
        "    if tipo:\n",
        "        etiqueta.append(tipo.upper())\n",
        "    if cap_min or cap_max:\n",
        "        etiqueta.append(f\"{cap_min or '0'}-{cap_max or '∞'}\")\n",
        "    if flujo:\n",
        "        etiqueta.append(f\"Flujo: {flujo}\")\n",
        "\n",
        "    label = \" | \".join(etiqueta)\n",
        "\n",
        "    G.add_edge(origen, destino, label=label)\n",
        "\n",
        "# Dibujar grafo\n",
        "pos = nx.spring_layout(G, seed=42)\n",
        "\n",
        "plt.figure(figsize=(12, 7))\n",
        "nx.draw(G, pos, with_labels=True, node_size=800, node_color='lightgreen', arrows=True, font_weight='bold')\n",
        "nx.draw_networkx_edge_labels(G, pos, edge_labels={(u, v): d['label'] for u, v, d in G.edges(data=True)}, font_size=8)\n",
        "plt.title(\"Grafo de Flujo con Etiquetas de Capacidad y Flujo\")\n",
        "plt.axis('off')\n",
        "plt.tight_layout()\n",
        "plt.show()\n"
      ],
      "metadata": {
        "id": "UlK_22oXazAE"
      },
      "execution_count": null,
      "outputs": []
    },
    {
      "cell_type": "markdown",
      "source": [
        "Aca se toma el csv cargado en el paso anterior y se grafica el grafo dirigido. Cada arista muestra informacion como:\n",
        "* Tipo\n",
        "* Capacidad Minima - Maxima\n",
        "* Flujo\n"
      ],
      "metadata": {
        "id": "toElzHnSIfbu"
      }
    },
    {
      "cell_type": "markdown",
      "source": [
        "**ALGORITMO GENETICO**"
      ],
      "metadata": {
        "id": "FzUBTP5SNo1M"
      }
    },
    {
      "cell_type": "code",
      "source": [
        "# Import de Librerias y Modulos\n",
        "import csv\n",
        "import random\n",
        "import matplotlib.pyplot as plt\n",
        "from collections import defaultdict"
      ],
      "metadata": {
        "id": "ln4t9xSmIcfc"
      },
      "execution_count": null,
      "outputs": []
    },
    {
      "cell_type": "code",
      "source": [
        "NUM_GENERACIONES = 100 # Cantidad Total de Generaciones\n",
        "EFICIENCIA_OBJETIVO = 0.999 # Representa el valor de la eficiencia que deseamos alcanzar (0.999)\n",
        "NUM_INDIVIDUOS = 100 # Numero de soluciones presentes en la poblacion en cada generacion\n",
        "PROB_MUTACION = 0.6 # La posibilidad que el inviduo sufra una mutacion durante la reproduccion\n",
        "TORNEO_K = 5 # Cantidad de individuos a competir por ser padres , solo se toman los  mejores\n",
        "MAX_CONVERGENCE = 20 # Cantidad de generaciones seguidas habran hasta que llegue un buen flujo, de lo contrario se termina alli\n",
        "\n",
        "mejor_flujo_global = 0.0 # Guardar el mejor flujo\n",
        "generaciones_sin_mejora = 0 # Muestra la cantidad en las generacines que no muestra mejora"
      ],
      "metadata": {
        "id": "K1ydA8ov1pKv"
      },
      "execution_count": null,
      "outputs": []
    },
    {
      "cell_type": "code",
      "source": [
        "def cargar_grafo_csv_unico(path):\n",
        "    \"\"\"\n",
        "    Carga un grafo a partir de un archivo CSV.\n",
        "\n",
        "    Este grafo está representado como un diccionario que contiene información sobre los nodos,\n",
        "    las aristas, las entradas y las salidas del grafo. Cada nodo tiene conjuntos de aristas entrantes\n",
        "    y salientes, y cada arista tiene datos como el origen, destino, capacidad y porcentaje mínimo.\n",
        "\n",
        "    Parámetros:\n",
        "    path (str): Ruta del archivo CSV que contiene los datos del grafo.\n",
        "\n",
        "    Retorna:\n",
        "    dict: Un diccionario que representa el grafo con nodos, aristas, entradas y salidas.\n",
        "    \"\"\"\n",
        "\n",
        "    # Inicializa un diccionario que va a contener la estructura del grafo\n",
        "    grafo = {\n",
        "        \"nodes\": defaultdict(lambda: {\"entrantes\": set(), \"salientes\": set()}),  # Nodos con aristas entrantes y salientes\n",
        "        \"aristas\": {},  # Almacena la información de las aristas\n",
        "        \"entradas\": [],  # Lista de aristas de entrada\n",
        "        \"salidas\": []    # Lista de aristas de salida\n",
        "    }\n",
        "\n",
        "    # Abre el archivo CSV y comienza a leerlo\n",
        "    with open(path, newline='', encoding='utf-8') as f:\n",
        "        reader = csv.reader(f)\n",
        "        next(reader, None)  # Salta la primera fila (encabezado)\n",
        "        next(reader, None)  # Salta la segunda fila (encabezado)\n",
        "\n",
        "        # Recorre cada fila del archivo CSV\n",
        "        for row in reader:\n",
        "            # Si la fila no tiene suficientes datos o el ID de la arista está vacío, se omite\n",
        "            if len(row) < 6 or not row[0].strip():\n",
        "                continue\n",
        "\n",
        "            # Extrae y limpia los datos de la fila\n",
        "            arista_id = row[0].strip()  # ID de la arista\n",
        "            origen = row[2].strip()     # Nodo de origen\n",
        "            destino = row[3].strip()    # Nodo de destino\n",
        "\n",
        "            # Intenta convertir el porcentaje mínimo y la capacidad a números flotantes\n",
        "            try:\n",
        "                min_porcentaje = float(row[4].strip())\n",
        "            except:\n",
        "                min_porcentaje = 0.0  # Si no se puede convertir, usa 0.0\n",
        "\n",
        "            try:\n",
        "                capacidad = float(row[5].strip())\n",
        "            except:\n",
        "                capacidad = 0.0  # Si no se puede convertir, usa 0.0\n",
        "\n",
        "            # Agrega la información de la arista al diccionario de aristas\n",
        "            grafo[\"aristas\"][arista_id] = {\n",
        "                \"origen\": origen,\n",
        "                \"destino\": destino,\n",
        "                \"min_porcentaje\": min_porcentaje,\n",
        "                \"capacidad\": capacidad\n",
        "            }\n",
        "\n",
        "            # Agrega la arista a los conjuntos de salientes del origen y entrantes del destino\n",
        "            grafo[\"nodes\"][origen][\"salientes\"].add(arista_id)\n",
        "            grafo[\"nodes\"][destino][\"entrantes\"].add(arista_id)\n",
        "\n",
        "    # Recorre las aristas para identificar las entradas y salidas del grafo\n",
        "    for arista_id, datos in grafo[\"aristas\"].items():\n",
        "        origen = datos['origen']\n",
        "        destino = datos['destino']\n",
        "\n",
        "        # Si un nodo no tiene aristas entrantes, se considera una entrada\n",
        "        if not grafo[\"nodes\"][origen][\"entrantes\"]:\n",
        "            grafo[\"entradas\"].append(arista_id)\n",
        "\n",
        "        # Si un nodo no tiene aristas salientes, se considera una salida\n",
        "        if not grafo[\"nodes\"][destino][\"salientes\"]:\n",
        "            grafo[\"salidas\"].append(arista_id)\n",
        "\n",
        "    # Retorna el grafo completo con nodos, aristas, entradas y salidas\n",
        "    return grafo"
      ],
      "metadata": {
        "id": "pcIy6p6O1s1o"
      },
      "execution_count": null,
      "outputs": []
    },
    {
      "cell_type": "code",
      "source": [
        "def generar_camino_aleatorio(grafo):\n",
        "    \"\"\"\n",
        "    Genera un camino aleatorio en el grafo a partir de las aristas de entrada.\n",
        "\n",
        "    La función selecciona una arista de entrada aleatoria y sigue un camino aleatorio\n",
        "    a través de las aristas salientes del destino de la arista anterior, evitando\n",
        "    visitar los mismos nodos y aristas más de una vez.\n",
        "\n",
        "    Parámetros:\n",
        "    grafo (dict): El grafo representado como un diccionario con nodos y aristas.\n",
        "\n",
        "    Retorna:\n",
        "    list: Una lista con las aristas que forman el camino aleatorio.\n",
        "    \"\"\"\n",
        "    camino, aristas_visitadas, nodos_visitados = [], set(), set()\n",
        "    actuales = list(grafo[\"entradas\"])  # Empieza desde las aristas de entrada\n",
        "    if not actuales:\n",
        "        return camino  # Si no hay entradas, retorna un camino vacío\n",
        "    arista = random.choice(actuales)  # Selecciona una entrada aleatoria\n",
        "\n",
        "    while True:\n",
        "        if arista in aristas_visitadas:  # Si la arista ya fue visitada, termina\n",
        "            break\n",
        "        camino.append(arista)\n",
        "        aristas_visitadas.add(arista)\n",
        "\n",
        "        destino = grafo[\"aristas\"][arista][\"destino\"]  # Obtiene el destino de la arista\n",
        "        if destino in nodos_visitados:  # Si el nodo ya fue visitado, termina\n",
        "            break\n",
        "        nodos_visitados.add(destino)\n",
        "\n",
        "        siguientes = [\n",
        "            a for a in grafo[\"nodes\"][destino][\"salientes\"]\n",
        "            if grafo[\"aristas\"][a][\"destino\"] not in nodos_visitados  # Solo toma aristas no visitadas\n",
        "        ]\n",
        "        if not siguientes:  # Si no hay más aristas para seguir, termina\n",
        "            break\n",
        "        arista = random.choice(siguientes)  # Elige una arista saliente aleatoria\n",
        "\n",
        "    return camino\n",
        "\n",
        "\n",
        "def calcular_flujo(camino, grafo):\n",
        "    \"\"\"\n",
        "    Calcula el flujo total de un camino, considerando las capacidades mínimas\n",
        "    de cada arista en el camino.\n",
        "\n",
        "    Parámetros:\n",
        "    camino (list): Una lista con las aristas que forman el camino.\n",
        "    grafo (dict): El grafo representado como un diccionario con nodos y aristas.\n",
        "\n",
        "    Retorna:\n",
        "    float: El flujo total del camino.\n",
        "    \"\"\"\n",
        "    return sum(grafo[\"aristas\"][a][\"capacidad\"] * grafo[\"aristas\"][a][\"min_porcentaje\"] / 100 for a in camino)\n",
        "\n",
        "\n",
        "def seleccion(poblacion, fitness):\n",
        "    \"\"\"\n",
        "    Realiza una selección por torneo de los individuos en la población según su fitness.\n",
        "\n",
        "    Parámetros:\n",
        "    poblacion (list): Lista de individuos (camino) a seleccionar.\n",
        "    fitness (list): Lista de valores de fitness asociados a cada individuo.\n",
        "\n",
        "    Retorna:\n",
        "    list: Una lista de individuos seleccionados para la siguiente generación.\n",
        "    \"\"\"\n",
        "    seleccionados = []\n",
        "    for _ in range(len(poblacion) // 2):\n",
        "        torneo = random.sample(list(zip(poblacion, fitness)), TORNEO_K)  # Selecciona un torneo aleatorio\n",
        "        ganador = max(torneo, key=lambda x: x[1])  # Elige al individuo con mejor fitness\n",
        "        seleccionados.append(ganador[0])  # Agrega el ganador a la lista de seleccionados\n",
        "    return seleccionados\n",
        "\n",
        "\n",
        "def cruzar(p1, p2):\n",
        "    \"\"\"\n",
        "    Cruza dos individuos (caminos) para generar un nuevo individuo (camino hijo).\n",
        "\n",
        "    El cruce se realiza en dos puntos aleatorios, combinando las partes de ambos caminos.\n",
        "\n",
        "    Parámetros:\n",
        "    p1 (list): El primer individuo (camino).\n",
        "    p2 (list): El segundo individuo (camino).\n",
        "\n",
        "    Retorna:\n",
        "    list: El camino hijo generado a partir del cruce.\n",
        "    \"\"\"\n",
        "    punto1 = random.randint(0, len(p1)-1)\n",
        "    punto2 = random.randint(0, len(p2)-1)\n",
        "    hijo = p1[:punto1] + p2[punto2:]  # Une las partes de ambos caminos\n",
        "    return list(dict.fromkeys(hijo))  # Elimina duplicados manteniendo el orden\n",
        "\n",
        "\n",
        "def mutar(individuo, grafo):\n",
        "    \"\"\"\n",
        "    Aplica una mutación a un individuo (camino), alterando una parte del camino.\n",
        "\n",
        "    La mutación consiste en reemplazar un tramo del camino por un nuevo camino aleatorio.\n",
        "\n",
        "    Parámetros:\n",
        "    individuo (list): El camino (individuo) a mutar.\n",
        "    grafo (dict): El grafo representado como un diccionario con nodos y aristas.\n",
        "\n",
        "    Retorna:\n",
        "    list: El camino mutado.\n",
        "    \"\"\"\n",
        "    if len(individuo) < 2:\n",
        "        return individuo  # Si el camino es muy corto, no se puede mutar\n",
        "    punto = random.randint(0, len(individuo) - 1)  # Elige un punto aleatorio para la mutación\n",
        "    nodo_inicio = grafo[\"aristas\"][individuo[punto]][\"origen\"]  # Obtiene el nodo de inicio\n",
        "    nuevo_tramo = generar_camino_aleatorio_desde(grafo, nodo_inicio)  # Genera un nuevo tramo aleatorio\n",
        "    return individuo[:punto] + nuevo_tramo  # Reemplaza la parte mutada en el camino\n",
        "\n",
        "\n",
        "def generar_camino_aleatorio_desde(grafo, nodo_inicio):\n",
        "    \"\"\"\n",
        "    Genera un camino aleatorio a partir de un nodo de inicio específico.\n",
        "\n",
        "    La función sigue el mismo procedimiento que `generar_camino_aleatorio`, pero\n",
        "    empieza desde un nodo dado en lugar de una arista de entrada.\n",
        "\n",
        "    Parámetros:\n",
        "    grafo (dict): El grafo representado como un diccionario con nodos y aristas.\n",
        "    nodo_inicio (str): El nodo desde el cual se inicia el camino.\n",
        "\n",
        "    Retorna:\n",
        "    list: Una lista con las aristas que forman el camino aleatorio generado.\n",
        "    \"\"\"\n",
        "    camino, aristas_visitadas, nodos_visitados = [], set(), set()\n",
        "    actual = nodo_inicio\n",
        "    while True:\n",
        "        posibles = list(grafo[\"nodes\"][actual][\"salientes\"])  # Obtiene las aristas salientes del nodo actual\n",
        "        if not posibles:\n",
        "            break  # Si no hay aristas salientes, termina\n",
        "        arista = random.choice(posibles)  # Elige una arista aleatoria\n",
        "        if arista in aristas_visitadas:\n",
        "            break  # Si la arista ya fue visitada, termina\n",
        "        camino.append(arista)\n",
        "        aristas_visitadas.add(arista)\n",
        "        destino = grafo[\"aristas\"][arista][\"destino\"]  # Obtiene el destino de la arista\n",
        "        if destino in nodos_visitados:\n",
        "            break  # Si el destino ya fue visitado, termina\n",
        "        nodos_visitados.add(destino)\n",
        "        actual = destino  # Actualiza el nodo actual con el destino\n",
        "\n",
        "    return camino\n"
      ],
      "metadata": {
        "id": "U5Ik8A6i1wDT"
      },
      "execution_count": null,
      "outputs": []
    },
    {
      "cell_type": "code",
      "source": [
        "def evolucionar(grafo):\n",
        "    \"\"\"\n",
        "    Evoluciona una población de caminos utilizando un algoritmo genético para optimizar el flujo\n",
        "    a través de un grafo. El algoritmo realiza selección, cruce y mutación en cada generación\n",
        "    para mejorar el flujo total hasta alcanzar un objetivo de eficiencia o convergencia.\n",
        "\n",
        "    Parámetros:\n",
        "    grafo (dict): El grafo en el que se busca optimizar el flujo.\n",
        "\n",
        "    Retorna:\n",
        "    list: Un historial con los mejores valores relativos de flujo en cada generación.\n",
        "    \"\"\"\n",
        "    global mejor_flujo_global, generaciones_sin_mejora\n",
        "\n",
        "    # Inicializa la población con caminos aleatorios\n",
        "    poblacion = [generar_camino_aleatorio(grafo) for _ in range(NUM_INDIVIDUOS)]\n",
        "    historial = []  # Guarda la evolución del mejor flujo relativo\n",
        "\n",
        "    # Ciclo de generaciones\n",
        "    for gen in range(NUM_GENERACIONES):\n",
        "        # Calcula el fitness (flujo total) de cada individuo en la población\n",
        "        fitness = [calcular_flujo(ind, grafo) for ind in poblacion]\n",
        "        max_fitness = max(fitness)  # Mejor flujo de la generación actual\n",
        "\n",
        "        # Si se mejora el mejor flujo global, actualiza el valor\n",
        "        if max_fitness > mejor_flujo_global + 0.01:\n",
        "            mejor_flujo_global = max_fitness\n",
        "            generaciones_sin_mejora = 0  # Resetea el contador de generaciones sin mejora\n",
        "        else:\n",
        "            generaciones_sin_mejora += 1  # Incrementa el contador si no hay mejora\n",
        "\n",
        "        # Calcula la relación del flujo actual con el mejor flujo global\n",
        "        rel = [f / mejor_flujo_global for f in fitness]\n",
        "        mejor_rel = max(rel)  # Mejor relación de flujo relativo de la generación\n",
        "        historial.append(mejor_rel)  # Guarda el mejor flujo relativo\n",
        "\n",
        "        # Imprime el resultado de la generación\n",
        "        print(f\"Generación {gen}: Mejor flujo = {max_fitness:.3f}, Relativo = {mejor_rel:.3f}\")\n",
        "\n",
        "        # Si se alcanza la eficiencia objetivo y no hay mejoras en varias generaciones, termina\n",
        "        if mejor_rel >= EFICIENCIA_OBJETIVO and generaciones_sin_mejora >= 5:\n",
        "            print(f\" Eficiencia objetivo alcanzada en generación {gen}.\\n\")\n",
        "            break\n",
        "\n",
        "        # Si se alcanza el número máximo de generaciones sin mejora, termina\n",
        "        if generaciones_sin_mejora >= MAX_CONVERGENCE:\n",
        "            print(f\"Convergencia alcanzada sin mejora en {MAX_CONVERGENCE} generaciones.\\n\")\n",
        "            break\n",
        "\n",
        "        # Selecciona a los mejores individuos para la siguiente generación\n",
        "        seleccionados = seleccion(poblacion, fitness)\n",
        "        nueva_poblacion = seleccionados[:10]  # Elitismo: los 10 mejores pasan directamente\n",
        "\n",
        "        # Completa la población con cruces y mutaciones de los individuos seleccionados\n",
        "        while len(nueva_poblacion) < NUM_INDIVIDUOS:\n",
        "            p1, p2 = random.sample(seleccionados, 2)  # Selecciona dos padres aleatorios\n",
        "            hijo = cruzar(p1, p2)  # Cruza a los padres para generar un hijo\n",
        "            if random.random() < PROB_MUTACION:  # Aplica mutación con probabilidad\n",
        "                hijo = mutar(hijo, grafo)\n",
        "            nueva_poblacion.append(hijo)\n",
        "\n",
        "        poblacion = nueva_poblacion  # Actualiza la población para la siguiente generación\n",
        "\n",
        "    return historial  # Retorna el historial de la evolución del flujo relativo\n"
      ],
      "metadata": {
        "id": "GslLVSsW10N6"
      },
      "execution_count": null,
      "outputs": []
    },
    {
      "cell_type": "code",
      "source": [
        "# Ejecutar\n",
        "grafo = cargar_grafo_csv_unico(\"datos_llenos.csv\")\n",
        "historial = evolucionar(grafo)"
      ],
      "metadata": {
        "id": "9SCS_B9z1117"
      },
      "execution_count": null,
      "outputs": []
    },
    {
      "cell_type": "code",
      "source": [
        "# Graficar Modelo De Evolucion\n",
        "plt.plot(historial)\n",
        "plt.title(\"Evolución\")\n",
        "plt.xlabel(\"Generación\")\n",
        "plt.ylabel(\"Fitness relativo\")\n",
        "plt.grid()\n",
        "plt.show()"
      ],
      "metadata": {
        "id": "BMVkdiJK14E0"
      },
      "execution_count": null,
      "outputs": []
    },
    {
      "cell_type": "code",
      "source": [
        "# Imprimir ruta usada por el AG\n",
        "print(\"\\nMejor camino encontrado:\")\n",
        "for i, arista_id in enumerate(mejor_camino, 1):\n",
        "    datos = grafo[\"aristas\"][arista_id]\n",
        "    print(f\"{i}. {datos['origen']} → {datos['destino']}  (ID: {arista_id})\")"
      ],
      "metadata": {
        "id": "66rhcX9B16so"
      },
      "execution_count": null,
      "outputs": []
    },
    {
      "cell_type": "code",
      "source": [
        "import networkx as nx\n",
        "import matplotlib.pyplot as plt\n",
        "\n",
        "def graficar_mejor_camino(grafo, mejor_camino):\n",
        "    # Crear un grafo dirigido vacío\n",
        "    G = nx.DiGraph()\n",
        "\n",
        "    # Agregar todos los nodos y aristas del grafo completo\n",
        "    # Las aristas se representan con un identificador único (arista_id)\n",
        "    for arista_id, datos in grafo[\"aristas\"].items():\n",
        "        G.add_edge(datos[\"origen\"], datos[\"destino\"], id=arista_id)\n",
        "\n",
        "    # Crear un conjunto de aristas que forman el mejor camino\n",
        "    camino_aristas = set()\n",
        "    for arista_id in mejor_camino:\n",
        "        datos = grafo[\"aristas\"][arista_id]\n",
        "        camino_aristas.add((datos[\"origen\"], datos[\"destino\"]))  # Solo las aristas del mejor camino\n",
        "\n",
        "    # Calcular las posiciones de los nodos de forma automática\n",
        "    pos = nx.spring_layout(G, seed=42)  # Seed para obtener resultados consistentes\n",
        "\n",
        "    # Dibujar todos los nodos y aristas en color gris\n",
        "    nx.draw_networkx_nodes(G, pos, node_size=500, node_color=\"lightblue\")  # Nodos azules\n",
        "    nx.draw_networkx_edges(G, pos, edge_color=\"gray\", arrows=True)  # Aristas grises\n",
        "    nx.draw_networkx_labels(G, pos, font_size=10)  # Etiquetas de los nodos\n",
        "\n",
        "    # Resaltar las aristas del mejor camino en color rojo\n",
        "    nx.draw_networkx_edges(G, pos, edgelist=camino_aristas, edge_color=\"red\", width=2.5, arrows=True)\n",
        "\n",
        "    # Mostrar el identificador de cada arista en el gráfico\n",
        "    edge_labels = { (datos[\"origen\"], datos[\"destino\"]): arista_id for arista_id, datos in grafo[\"aristas\"].items() }\n",
        "    nx.draw_networkx_edge_labels(G, pos, edge_labels=edge_labels, font_color=\"black\")\n",
        "\n",
        "    # Añadir título y configurar la visualización\n",
        "    plt.title(\"Mejor Camino Encontrado por el AG\")\n",
        "    plt.axis(\"off\")  # Desactivar los ejes\n",
        "    plt.tight_layout()  # Ajustar la visualización\n",
        "    plt.show()  # Mostrar el gráfico"
      ],
      "metadata": {
        "id": "G58-L0O48ttY"
      },
      "execution_count": null,
      "outputs": []
    },
    {
      "cell_type": "code",
      "source": [
        "# Ejecucion de grafico final de ruta elegida por el AG modo grafo\n",
        "graficar_mejor_camino(grafo, mejor_camino)"
      ],
      "metadata": {
        "id": "3k_SQh8KAlfl"
      },
      "execution_count": null,
      "outputs": []
    }
  ]
}